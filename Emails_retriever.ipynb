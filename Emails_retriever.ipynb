{
 "cells": [
  {
   "cell_type": "code",
   "execution_count": null,
   "metadata": {},
   "outputs": [],
   "source": [
    "#Importing necessary libraries\n",
    "import requests\n",
    "#Pandas is not necessary but we are using it here because our list is into a csv file\n",
    "import pandas as pd\n",
    "import json\n",
    "import csv"
   ]
  },
  {
   "cell_type": "code",
   "execution_count": null,
   "metadata": {},
   "outputs": [],
   "source": [
    "# Here you have to somehow insert a list with all the linkedin profiles(links).\n",
    "# In our case we are reading the list from a csv file\n",
    "df = pd.read_csv(\"csv file path here\")\n",
    "links_list = df[\"Website\"]"
   ]
  },
  {
   "cell_type": "code",
   "execution_count": null,
   "metadata": {},
   "outputs": [],
   "source": [
    "# create empty dictionary\n",
    "dictionary = {}\n",
    "# for link in links list\n",
    "for row in links_list:\n",
    "    link = row\n",
    "    # enter you nymeria api key but be carefull while using this loop because every valid email consumes credit (get your key here: https://www.nymeria.io/api)\n",
    "    params = {\"api_key\":\"your key\",\"linkedin_url\":link}\n",
    "    #get the response as json format\n",
    "    response = requests.get(\"https://www.nymeria.io/api/v2/emails\",params=params)\n",
    "    data = response.json()\n",
    "    #Try fetching the email . If no email found return \"no email\"\n",
    "    try:\n",
    "        email = data[\"data\"][\"emails\"][0]['email']\n",
    "    except IndexError:\n",
    "        email = 'No email'\n",
    "    # insert email in our dictionary\n",
    "    dictionary[link] = email\n"
   ]
  },
  {
   "cell_type": "code",
   "execution_count": null,
   "metadata": {},
   "outputs": [],
   "source": [
    "#convert dictionary to csv file for future use.\n",
    "with open('email_dictionary.csv', 'w', newline=\"\") as csv_file:  \n",
    "    writer = csv.writer(csv_file)\n",
    "    for key, value in dictionary.items():\n",
    "        writer.writerow([key, value])"
   ]
  },
  {
   "cell_type": "code",
   "execution_count": null,
   "metadata": {},
   "outputs": [],
   "source": []
  }
 ],
 "metadata": {
  "kernelspec": {
   "display_name": "Python 3",
   "language": "python",
   "name": "python3"
  },
  "language_info": {
   "codemirror_mode": {
    "name": "ipython",
    "version": 3
   },
   "file_extension": ".py",
   "mimetype": "text/x-python",
   "name": "python",
   "nbconvert_exporter": "python",
   "pygments_lexer": "ipython3",
   "version": "3.7.3"
  }
 },
 "nbformat": 4,
 "nbformat_minor": 2
}
